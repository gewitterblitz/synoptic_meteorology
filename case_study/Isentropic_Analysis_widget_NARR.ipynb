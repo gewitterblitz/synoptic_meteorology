{
 "cells": [
  {
   "cell_type": "code",
   "execution_count": 1,
   "metadata": {},
   "outputs": [],
   "source": [
    "%matplotlib inline\n",
    "from datetime import datetime, timedelta\n",
    "\n",
    "import cartopy.crs as ccrs\n",
    "import cartopy.feature as cfeature\n",
    "from IPython.display import display\n",
    "import ipywidgets as widgets\n",
    "import matplotlib.pyplot as plt\n",
    "from metpy.units import units\n",
    "from netCDF4 import num2date, Dataset\n",
    "import numpy as np\n",
    "from siphon.ncss import NCSS\n",
    "import metpy.calc as mpcalc\n",
    "from scipy.ndimage import gaussian_filter\n",
    "\n",
    "import warnings\n",
    "warnings.filterwarnings('ignore')"
   ]
  },
  {
   "cell_type": "raw",
   "metadata": {},
   "source": [
    "dt = datetime(1993,3,1)\n",
    "print('http://www.esrl.noaa.gov/psd/thredds/dodsC/Datasets/NARR/pressure/hgt.{0:%Y%m}.nc'.format(dt))"
   ]
  },
  {
   "cell_type": "code",
   "execution_count": 2,
   "metadata": {},
   "outputs": [],
   "source": [
    "def getdata(year='1999',month='6', day='19', hour='12'):\n",
    "    \n",
    "    # Reduce lat/lon to get rid of missing values\n",
    "    iymin = 5\n",
    "    #iymin = 1\n",
    "    ixmin = 5\n",
    "    #ixmin = 1\n",
    "    iymax = 270\n",
    "    ixmax = 335\n",
    "    \n",
    "    dt = datetime(int(year),int(month),int(day),int(hour))\n",
    "    \n",
    "    # Grab Pressure Level Data\n",
    "    hght_data = Dataset('http://www.esrl.noaa.gov/psd/thredds/dodsC/Datasets/'\n",
    "                                'NARR/pressure/hgt.{0:%Y%m}.nc'.format(dt))\n",
    "    air_data = Dataset('http://www.esrl.noaa.gov/psd/thredds/dodsC/Datasets/'\n",
    "                               'NARR/pressure/air.{0:%Y%m}.nc'.format(dt))\n",
    "    shum_data = Dataset('http://www.esrl.noaa.gov/psd/thredds/dodsC/Datasets/'\n",
    "                                'NARR/pressure/shum.{0:%Y%m}.nc'.format(dt))\n",
    "    uwnd_data = Dataset('http://www.esrl.noaa.gov/psd/thredds/dodsC/Datasets/'\n",
    "                                'NARR/pressure/uwnd.{0:%Y%m}.nc'.format(dt))\n",
    "    vwnd_data = Dataset('http://www.esrl.noaa.gov/psd/thredds/dodsC/Datasets/'\n",
    "                                'NARR/pressure/vwnd.{0:%Y%m}.nc'.format(dt))\n",
    "        \n",
    "    vtimes = num2date(hght_data.variables['time'][:], units='hours since 1800-1-1 00:00:0.0')\n",
    "    itime = np.where(vtimes==dt)[0][0]\n",
    "    \n",
    "    data = {'Geopotential_Height':hght_data.variables['hgt'][itime,:,iymin:iymax,ixmin:ixmax],\n",
    "            'Air_Temperature':air_data.variables['air'][itime,:,iymin:iymax,ixmin:ixmax],\n",
    "            'Specific_Humidity':shum_data.variables['shum'][itime,:,iymin:iymax,ixmin:ixmax],\n",
    "            'U_wind':uwnd_data.variables['uwnd'][itime,:,iymin:iymax,ixmin:ixmax],\n",
    "            'V_wind':vwnd_data.variables['vwnd'][itime,:,iymin:iymax,ixmin:ixmax],\n",
    "            'lat':hght_data.variables['lat'][iymin:iymax,ixmin:ixmax],\n",
    "            'lon':hght_data.variables['lon'][iymin:iymax,ixmin:ixmax],\n",
    "            'time':vtimes[itime],\n",
    "            'level':hght_data.variables['level']}\n",
    "    return data"
   ]
  },
  {
   "cell_type": "code",
   "execution_count": 11,
   "metadata": {},
   "outputs": [],
   "source": [
    "def plot(level='300'):\n",
    "    data = x.widget.result\n",
    "    year = x.widget.kwargs['year']\n",
    "    month = x.widget.kwargs['month']\n",
    "    day = x.widget.kwargs['day']\n",
    "    hour = x.widget.kwargs['hour']\n",
    "    \n",
    "    \n",
    "    dt = datetime(int(year),int(month),int(day),int(hour))\n",
    "    \n",
    "    # Pull out the lat and lon data\n",
    "    lat = data['lat'][:]\n",
    "    lon = data['lon'][:]\n",
    "\n",
    "    plotcrs = ccrs.LambertConformal(central_latitude=45., central_longitude=-100.,\n",
    "                                    standard_parallels=[30, 60])\n",
    "    \n",
    "    datacrs = ccrs.PlateCarree()\n",
    "\n",
    "    tlatslons = plotcrs.transform_points(datacrs,lon,lat)\n",
    "    tlon = tlatslons[:,:,0]\n",
    "    tlat = tlatslons[:,:,1]\n",
    "    \n",
    "\n",
    "\n",
    "    \n",
    "    preslevs = units('hPa') * data['level'][:]\n",
    "    temp_var = gaussian_filter(data['Air_Temperature'][:], sigma=1.0) * units.kelvin\n",
    "    shum_var = gaussian_filter(data['Specific_Humidity'][:], sigma=1.0) * units('kg/kg')\n",
    "    uwnd_var = gaussian_filter(data['U_wind'][:], sigma=1.0) * units('m/s')\n",
    "    vwnd_var = gaussian_filter(data['V_wind'][:], sigma=1.0) * units('m/s')\n",
    "    #hght_var = data['Geopotential_Height'][:] * units.meter\n",
    "    \n",
    "    isentlevs = [float(level)] * units.kelvin\n",
    "    isent_anal = mpcalc.isentropic_interpolation(isentlevs,\n",
    "                                                 preslevs,\n",
    "                                                 temp_var,\n",
    "                                                 shum_var,\n",
    "                                                 uwnd_var,\n",
    "                                                 vwnd_var,\n",
    "                                                 tmpk_out=True)\n",
    "    \n",
    "    isent_pres = isent_anal[0]\n",
    "    isent_temp = isent_anal[1]\n",
    "    isent_shum = isent_anal[2]\n",
    "    isent_uwnd = isent_anal[3]\n",
    "    isent_vwnd = isent_anal[4]\n",
    "    #isent_hght = isent_anal[5]\n",
    "    \n",
    "    e = mpcalc.vapor_pressure(isent_pres[0],isent_shum[0])\n",
    "    es = mpcalc.saturation_vapor_pressure(isent_temp[0])\n",
    "    rel_hum = e/es*100\n",
    "    rel_hum[rel_hum>100] = 100\n",
    "    \n",
    "    fig = plt.figure(figsize=(16, 14))\n",
    "    ax = fig.add_subplot(111, projection=plotcrs)\n",
    "    ax.set_extent([230., 290., 20., 55.], ccrs.PlateCarree())\n",
    "    #ax.set_title('NARR Plot', size=16)\n",
    "\n",
    "    # Add state boundaries to plot\n",
    "    states_provinces = cfeature.NaturalEarthFeature(category='cultural',\n",
    "                                                    name='admin_1_states_provinces_lakes',\n",
    "                                                    scale='50m', facecolor='none')\n",
    "    ax.add_feature(states_provinces, edgecolor='black', linewidth=1)\n",
    "\n",
    "    # Add country borders to plot\n",
    "    country_borders = cfeature.NaturalEarthFeature(category='cultural',\n",
    "                                                   name='admin_0_countries',\n",
    "                                                   scale='50m', facecolor='none')\n",
    "    ax.add_feature(country_borders, edgecolor='black', linewidth=1)\n",
    "        \n",
    "    # Contour based on variable chosen\n",
    "    clevisent = np.arange(0, 1001, 50)\n",
    "    cs = ax.contour(tlon, tlat, isent_pres[0],clevisent,\n",
    "                    linewidth=2, colors='black')\n",
    "    plt.clabel(cs,inline=True,fmt='%d')\n",
    "        \n",
    "    cf = ax.contourf(tlon, tlat, rel_hum, range(50,101,5), cmap='Greens')\n",
    "    plt.title(r''+str(level)+'K Isentropic Pressure (hPa), Relative Humidity (%), and Wind Barbs (kts)',\n",
    "              loc='left')\n",
    "    \n",
    "    cb = fig.colorbar(cf, orientation='horizontal',ax=ax,pad=0,aspect=50,extendrect='True')\n",
    "        \n",
    "    # Plot Wind Barbs\n",
    "    # Transform Vectors and plot wind barbs.\n",
    "    ax.barbs(lon, lat, isent_uwnd[0].to('kts').m, isent_vwnd[0].to('kts').m, length=6, regrid_shape=20, pivot='middle',\n",
    "             transform=datacrs)\n",
    "\n",
    "    \n",
    "    plt.title('VALID: {}'.format(data['time']), loc='right')\n",
    "    \n",
    "    plt.show()\n",
    "\n"
   ]
  },
  {
   "cell_type": "code",
   "execution_count": 4,
   "metadata": {},
   "outputs": [],
   "source": [
    "year_widget = widgets.Dropdown(\n",
    "    options=list(range(1979,2017)),\n",
    "    description='Year', alignment='center')\n",
    "\n",
    "month_widget = widgets.Dropdown(\n",
    "    options=list(range(1,13)),\n",
    "    description='Month', alignment='center')\n",
    "\n",
    "day_widget = widgets.Dropdown(description='Day', options=list(range(1,32)))\n",
    "hour_widget = widgets.Dropdown(description='Hour', options=[0,3,6,9,12,15,18,21])\n",
    "\n",
    "\n",
    "level_widget = widgets.BoundedIntText(value=300,min=255,max=385,step=1,\n",
    "                                      description='Level: ',disabled=False)\n"
   ]
  },
  {
   "cell_type": "code",
   "execution_count": 5,
   "metadata": {
    "scrolled": false
   },
   "outputs": [
    {
     "data": {
      "application/vnd.jupyter.widget-view+json": {
       "model_id": "bbfeddb0dc7549b3b5d59077b2f0af38",
       "version_major": 2,
       "version_minor": 0
      },
      "text/plain": [
       "interactive(children=(Dropdown(description='Year', options=(1979, 1980, 1981, 1982, 1983, 1984, 1985, 1986, 19…"
      ]
     },
     "metadata": {},
     "output_type": "display_data"
    }
   ],
   "source": [
    "x = widgets.interact_manual(getdata,year=year_widget,month=month_widget, day=day_widget, hour=hour_widget)"
   ]
  },
  {
   "cell_type": "code",
   "execution_count": 12,
   "metadata": {
    "scrolled": false
   },
   "outputs": [
    {
     "name": "stdout",
     "output_type": "stream",
     "text": [
      "Input the desired Isentropic Level (valid level: 255-385K)\n"
     ]
    },
    {
     "data": {
      "application/vnd.jupyter.widget-view+json": {
       "model_id": "7f76c72d6fc54de19351556940a3622c",
       "version_major": 2,
       "version_minor": 0
      },
      "text/plain": [
       "interactive(children=(BoundedIntText(value=300, description='Level: ', max=385, min=255), Button(description='…"
      ]
     },
     "metadata": {},
     "output_type": "display_data"
    }
   ],
   "source": [
    "print('Input the desired Isentropic Level (valid level: 255-385K)')\n",
    "p = widgets.interact_manual(plot, level=level_widget)"
   ]
  },
  {
   "cell_type": "code",
   "execution_count": null,
   "metadata": {},
   "outputs": [],
   "source": []
  }
 ],
 "metadata": {
  "anaconda-cloud": {},
  "kernelspec": {
   "display_name": "Python 3",
   "language": "python",
   "name": "python3"
  },
  "language_info": {
   "codemirror_mode": {
    "name": "ipython",
    "version": 3
   },
   "file_extension": ".py",
   "mimetype": "text/x-python",
   "name": "python",
   "nbconvert_exporter": "python",
   "pygments_lexer": "ipython3",
   "version": "3.6.7"
  }
 },
 "nbformat": 4,
 "nbformat_minor": 2
}
