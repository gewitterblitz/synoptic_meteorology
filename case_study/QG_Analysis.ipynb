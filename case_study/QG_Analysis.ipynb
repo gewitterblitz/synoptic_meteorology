{
 "cells": [
  {
   "cell_type": "code",
   "execution_count": 1,
   "metadata": {},
   "outputs": [],
   "source": [
    "%matplotlib inline\n",
    "from datetime import datetime, timedelta\n",
    "\n",
    "import cartopy.crs as ccrs\n",
    "import cartopy.feature as cfeature\n",
    "from IPython.display import display\n",
    "import ipywidgets as widgets\n",
    "import matplotlib.pyplot as plt\n",
    "from metpy.units import units\n",
    "from netCDF4 import num2date, Dataset\n",
    "import numpy as np\n",
    "from siphon.ncss import NCSS\n",
    "import metpy.calc as mpcalc\n",
    "import scipy.ndimage as ndimage"
   ]
  },
  {
   "cell_type": "raw",
   "metadata": {},
   "source": [
    "dt = datetime(1993,3,1)\n",
    "print('http://www.esrl.noaa.gov/psd/thredds/dodsC/Datasets/NARR/pressure/hgt.{0:%Y%m}.nc'.format(dt))"
   ]
  },
  {
   "cell_type": "code",
   "execution_count": 2,
   "metadata": {},
   "outputs": [],
   "source": [
    "def getdata(y='',m=''):\n",
    "    dt = datetime(y,m,1)\n",
    "    \n",
    "    # Grab Pressure Level Data\n",
    "    hght_data = Dataset('http://www.esrl.noaa.gov/psd/thredds/dodsC/Datasets/'\n",
    "                                'NARR/pressure/hgt.{0:%Y%m}.nc'.format(dt))\n",
    "    air_data = Dataset('http://www.esrl.noaa.gov/psd/thredds/dodsC/Datasets/'\n",
    "                               'NARR/pressure/air.{0:%Y%m}.nc'.format(dt))\n",
    "    shum_data = Dataset('http://www.esrl.noaa.gov/psd/thredds/dodsC/Datasets/'\n",
    "                                'NARR/pressure/shum.{0:%Y%m}.nc'.format(dt))\n",
    "    uwnd_data = Dataset('http://www.esrl.noaa.gov/psd/thredds/dodsC/Datasets/'\n",
    "                                'NARR/pressure/uwnd.{0:%Y%m}.nc'.format(dt))\n",
    "    vwnd_data = Dataset('http://www.esrl.noaa.gov/psd/thredds/dodsC/Datasets/'\n",
    "                                'NARR/pressure/vwnd.{0:%Y%m}.nc'.format(dt))\n",
    "    \n",
    "    return {'Geopotential_Height':hght_data.variables['hgt'],'Air_Temperature':air_data.variables['air'],\n",
    "            'Specific_Humidity':shum_data.variables['shum'],'U_wind':uwnd_data.variables['uwnd'],\n",
    "            'V_wind':vwnd_data.variables['vwnd'],'lat':hght_data.variables['lat'],'lon':hght_data.variables['lon'],\n",
    "            'time':hght_data.variables['time'],'level':hght_data.variables['level']}"
   ]
  },
  {
   "cell_type": "code",
   "execution_count": 15,
   "metadata": {},
   "outputs": [],
   "source": [
    "def plot(varname='Air_Temperature', level='850', day='19', hour='12'):\n",
    "    data = x.widget.result\n",
    "    year = x.widget.kwargs['y']\n",
    "    month = x.widget.kwargs['m']\n",
    "\n",
    "    # Pull out the lat and lon data\n",
    "    lat = data['lat'][:]\n",
    "    lon = data['lon'][:]\n",
    "\n",
    "    plotcrs = ccrs.LambertConformal(central_latitude=45., central_longitude=-100.,\n",
    "                                    standard_parallels=[30, 60])\n",
    "    \n",
    "    datacrs = ccrs.PlateCarree()\n",
    "\n",
    "    tlatslons = plotcrs.transform_points(datacrs,lon,lat)\n",
    "    tlon = tlatslons[:,:,0]\n",
    "    tlat = tlatslons[:,:,1]\n",
    "    \n",
    "    dt = datetime(year,month,day,hour)\n",
    "    vtimes = num2date(data['time'][:], units='hours since 1800-1-1 00:00:0.0')\n",
    "    itime = np.where(vtimes==dt)[0][0]\n",
    "    ilev = np.where(data['level'][:]==level)[0][0]\n",
    "\n",
    "    hght = ndimage.gaussian_filter(data['Geopotential_Height'][itime,ilev,:,:].data, sigma=1.0)*units.meter\n",
    "    uwnd = ndimage.gaussian_filter(data['U_wind'][itime,ilev,:,:], sigma=1.0)*units('m/s')\n",
    "    vwnd = ndimage.gaussian_filter(data['V_wind'][itime,ilev,:,:], sigma=1.0)*units('m/s')\n",
    "    \n",
    "    if varname=='Wind_Speed':\n",
    "        variable = mpcalc.get_wind_speed(uwnd, vwnd)\n",
    "    elif varname=='Rel_Hum':\n",
    "        shum = ndimage.gaussian_filter(data['Specific_Humidity'][itime,ilev,:,:], sigma=1.0)*units('dimensionless')\n",
    "        tmpk = ndimage.gaussian_filter(data['Air_Temperature'][itime,ilev,:,:], sigma=1.0)*units('degK')\n",
    "        e = mpcalc.vapor_pressure(level*units('hPa'), shum)\n",
    "        es = mpcalc.saturation_vapor_pressure(tmpk)\n",
    "        rel_hum = e/es*100\n",
    "    elif (varname=='vort') | (varname=='absvort'):\n",
    "        dx, dy = mpcalc.lat_lon_grid_deltas(lon,lat)\n",
    "        if varname=='vort':\n",
    "            variable = mpcalc.vorticity(uwnd,vwnd,dx,dy,dim_order='yx')*1e5\n",
    "        elif varname=='absvort':\n",
    "            variable =  mpcalc.absolute_vorticity(uwnd,vwnd,dx,dy, lat*units('degree'), dim_order='yx')*1e5\n",
    "    else:\n",
    "        variable = ndimage.gaussian_filter(data[varname][itime,ilev,:,:].data, sigma=1.0)\n",
    "    \n",
    "    fig = plt.figure(figsize=(16, 14))\n",
    "    ax = fig.add_subplot(111, projection=plotcrs)\n",
    "    ax.set_extent([230., 290., 20., 55.], ccrs.PlateCarree())\n",
    "\n",
    "    # Add state boundaries to plot\n",
    "    ax.add_feature(cfeature.STATES.with_scale('50m'))\n",
    "\n",
    "    # Add country borders to plot\n",
    "    ax.add_feature(cfeature.BORDERS.with_scale('50m'))\n",
    "\n",
    "    if level>925:\n",
    "        cint = range(0,5000,10)\n",
    "    elif (level<=925) & (level>600):\n",
    "        cint = range(0,5000,30)\n",
    "    elif (level<=600) & (level>400):\n",
    "        cint = range(0,10000,60)\n",
    "    else:\n",
    "        cint = range(0,20000,120)\n",
    "        \n",
    "    # Contour based on variable chosen\n",
    "    cs = ax.contour(tlon, tlat, hght, cint,\n",
    "                    linewidths=2, colors='black')\n",
    "    plt.clabel(cs, inline=True, fmt='%d')\n",
    "        \n",
    "    if varname=='Air_Temperature':\n",
    "        variable = (variable * units.degK).to('degC')\n",
    "        cf = ax.contourf(tlon, tlat, variable, range(-50,51,2), cmap=plt.cm.coolwarm, extend='both')\n",
    "        cs = ax.contour(tlon, tlat, variable, range(-50,51,2), colors='darkgrey', linestyles='dotted', extend='both')\n",
    "        plt.clabel(cs, fmt='%d')\n",
    "        plt.title(r''+str(level)+'-hPa Heights (m), Temp (C), and Wind Barbs (kts)',\n",
    "          loc='left')\n",
    "    elif varname=='Wind_Speed':\n",
    "        if level<=500:\n",
    "            fint = range(50,211,20)\n",
    "        else:\n",
    "            fint = range(10,100,20)\n",
    "        cf = ax.contourf(tlon, tlat, variable.to('kts'), fint, cmap=plt.cm.BuPu, extend='both')\n",
    "        plt.title(r''+str(level)+'-hPa Heights (m), Wind Speed (kts), and Wind Barbs (kts)',\n",
    "          loc='left')\n",
    "    elif varname=='Rel_Hum':\n",
    "        cf = ax.contourf(tlon, tlat, rel_hum, range(50,100,5), cmap=plt.cm.Greens, extend='max')\n",
    "        plt.title(r''+str(level)+'-hPa Heights (m), Relative Humidity (%), and Wind Barbs (kts)',\n",
    "          loc='left')\n",
    "    elif (varname=='vort'):\n",
    "        fint = range(-15,16)\n",
    "        fline = 'PuOr_r'\n",
    "        cf = ax.contourf(tlon, tlat, variable, fint, cmap=fline, extend='both')\n",
    "        plt.title(r''+str(level)+'-hPa Heights (m), Vorticity ($1e5$ $s^{-1}$), and Wind Barbs (kts)',\n",
    "                      loc='left')\n",
    "    elif varname=='absvort':\n",
    "        clevavor500 = list(range(-8, 1, 1))+list(range(8, 49, 2))\n",
    "        colors1 = plt.cm.YlOrRd(np.linspace(0, 1, 31))\n",
    "        colors2 = plt.cm.BuPu(np.linspace(0.5, 0.75, 8))\n",
    "        colorsavor500 = np.vstack((colors2, (1, 1, 1, 1), colors1))\n",
    "        cf = ax.contourf(tlon, tlat, variable, clevavor500, colors=colorsavor500, extend='both')\n",
    "        plt.title(r''+str(level)+'-hPa Heights (m), Abs. Vorticity ($1e5$ $s^{-1}$), and Wind Barbs (kts)',\n",
    "                  loc='left')\n",
    "    \n",
    "    cb = fig.colorbar(cf, orientation='horizontal',ax=ax,pad=0,aspect=50,extendrect='True')\n",
    "\n",
    "    if varname == 'Air_Temperature':\n",
    "        cb.set_label(r'$^{o}C$', size='large')\n",
    "        \n",
    "    # Plot Wind Barbs\n",
    "    # Transform Vectors and plot wind barbs.\n",
    "    ax.barbs(lon, lat, uwnd.to('kts').m, vwnd.to('kts').m, length=6,\n",
    "             regrid_shape=20, pivot='middle',transform=ccrs.PlateCarree())\n",
    "\n",
    "    \n",
    "    plt.title('VALID: {}'.format(vtimes[itime]), loc='right')\n",
    "    \n",
    "    plt.show()\n",
    "\n"
   ]
  },
  {
   "cell_type": "code",
   "execution_count": 4,
   "metadata": {},
   "outputs": [],
   "source": [
    "year_widget = widgets.Dropdown(\n",
    "    options=list(range(1979,2017)),\n",
    "    description='Year', alignment='center')\n",
    "\n",
    "month_widget = widgets.Dropdown(\n",
    "    options=list(range(1,13)),\n",
    "    description='Month', alignment='center')\n",
    "\n",
    "\n",
    "var_widget = widgets.Dropdown(\n",
    "    options={'Temperature': 'Air_Temperature',\n",
    "             'Relative Humidity': 'Rel_Hum',\n",
    "             'Wind Speed': 'Wind_Speed',\n",
    "             'Vorticity': 'vort',\n",
    "             'Absolute Vorticity': 'absvort'},\n",
    "    description='Variable', alignment='center')\n",
    "day_widget = widgets.Dropdown(description='Day', options=list(range(1,32)))\n",
    "hour_widget = widgets.Dropdown(description='Hour', options=[0,3,6,9,12,15,18,21])\n",
    "level_widget = widgets.Dropdown(description='Level', options=[1000,925,850,700,500,300,250,200,100])\n",
    "\n"
   ]
  },
  {
   "cell_type": "code",
   "execution_count": 5,
   "metadata": {},
   "outputs": [
    {
     "data": {
      "application/vnd.jupyter.widget-view+json": {
       "model_id": "436642f4ad2c4f648cb21ff540381b92",
       "version_major": 2,
       "version_minor": 0
      },
      "text/plain": [
       "interactive(children=(Dropdown(description='Year', options=(1979, 1980, 1981, 1982, 1983, 1984, 1985, 1986, 19…"
      ]
     },
     "metadata": {},
     "output_type": "display_data"
    }
   ],
   "source": [
    "x = widgets.interact_manual(getdata,y=year_widget,m=month_widget)"
   ]
  },
  {
   "cell_type": "code",
   "execution_count": 16,
   "metadata": {
    "scrolled": false
   },
   "outputs": [
    {
     "data": {
      "application/vnd.jupyter.widget-view+json": {
       "model_id": "763a85d5046f45ddadd57a76a6cd10c0",
       "version_major": 2,
       "version_minor": 0
      },
      "text/plain": [
       "interactive(children=(Dropdown(description='Variable', options={'Temperature': 'Air_Temperature', 'Relative Hu…"
      ]
     },
     "metadata": {},
     "output_type": "display_data"
    }
   ],
   "source": [
    "p = widgets.interact_manual(plot, varname=var_widget, level=level_widget, day=day_widget, hour=hour_widget)"
   ]
  },
  {
   "cell_type": "code",
   "execution_count": null,
   "metadata": {},
   "outputs": [],
   "source": []
  }
 ],
 "metadata": {
  "anaconda-cloud": {},
  "kernelspec": {
   "display_name": "Python 3",
   "language": "python",
   "name": "python3"
  },
  "language_info": {
   "codemirror_mode": {
    "name": "ipython",
    "version": 3
   },
   "file_extension": ".py",
   "mimetype": "text/x-python",
   "name": "python",
   "nbconvert_exporter": "python",
   "pygments_lexer": "ipython3",
   "version": "3.6.7"
  }
 },
 "nbformat": 4,
 "nbformat_minor": 2
}
